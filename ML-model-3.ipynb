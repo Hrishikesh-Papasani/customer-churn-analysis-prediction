{
 "cells": [
  {
   "cell_type": "markdown",
   "metadata": {},
   "source": [
    "# Notebook 3: Machine Learning Model Construction"
   ]
  },
  {
   "cell_type": "markdown",
   "metadata": {},
   "source": [
    "## Objectives:\n",
    "\n",
    "### `1. Perform final preprocessing steps like Data Scaling and Feature Engineering`\n",
    "### `2. Construct model using all appropriate Classification algorithms`\n",
    "### `3. Train and validate all the models.`\n",
    "### `4. Test and compare the models over various metrics`\n",
    "### `5. Perform Hyperparameter tuning to optimize the model performance.`\n"
   ]
  },
  {
   "cell_type": "code",
   "execution_count": 46,
   "metadata": {},
   "outputs": [],
   "source": [
    "# Importation of libraries\n",
    "\n",
    "# For mathematical computations\n",
    "import numpy as np\n",
    "\n",
    "# For data analysis \n",
    "import pandas as pd\n",
    "\n",
    "# For data visualisations\n",
    "import seaborn as sns\n",
    "import matplotlib.pyplot as plt\n",
    "\n",
    "# For data scaling\n",
    "from sklearn.preprocessing import MinMaxScaler, StandardScaler\n",
    "scaler = MinMaxScaler()\n",
    "\n",
    "# For feature engineering\n",
    "from sklearn.ensemble import RandomForestClassifier,ExtraTreesClassifier\n",
    "\n",
    "\n",
    "# For ML model construction (training and testing)\n",
    "from sklearn.model_selection import KFold, StratifiedKFold, RandomizedSearchCV, GridSearchCV, train_test_split,cross_val_score\n",
    "from sklearn.tree import DecisionTreeClassifier\n",
    "from sklearn.linear_model import LogisticRegression\n",
    "from sklearn.svm import SVC\n",
    "from sklearn.neighbors import KNeighborsClassifier\n",
    "from sklearn.naive_bayes import GaussianNB\n",
    "from sklearn.metrics import accuracy_score, precision_score, recall_score, f1_score, classification_report, confusion_matrix\n",
    "import random  \n",
    "\n",
    "\n",
    "# For exporting the model\n",
    "import pickle"
   ]
  },
  {
   "cell_type": "code",
   "execution_count": 47,
   "metadata": {},
   "outputs": [
    {
     "data": {
      "text/html": [
       "<div>\n",
       "<style scoped>\n",
       "    .dataframe tbody tr th:only-of-type {\n",
       "        vertical-align: middle;\n",
       "    }\n",
       "\n",
       "    .dataframe tbody tr th {\n",
       "        vertical-align: top;\n",
       "    }\n",
       "\n",
       "    .dataframe thead th {\n",
       "        text-align: right;\n",
       "    }\n",
       "</style>\n",
       "<table border=\"1\" class=\"dataframe\">\n",
       "  <thead>\n",
       "    <tr style=\"text-align: right;\">\n",
       "      <th></th>\n",
       "      <th>Unnamed: 0</th>\n",
       "      <th>Gender</th>\n",
       "      <th>Senior Citizen</th>\n",
       "      <th>Partner</th>\n",
       "      <th>Dependents</th>\n",
       "      <th>Tenure Months</th>\n",
       "      <th>Phone Service</th>\n",
       "      <th>Multiple Lines</th>\n",
       "      <th>Internet Service</th>\n",
       "      <th>Online Security</th>\n",
       "      <th>...</th>\n",
       "      <th>Streaming TV</th>\n",
       "      <th>Streaming Movies</th>\n",
       "      <th>Contract</th>\n",
       "      <th>Paperless Billing</th>\n",
       "      <th>Payment Method</th>\n",
       "      <th>Monthly Charges</th>\n",
       "      <th>Total Charges</th>\n",
       "      <th>Churn Value</th>\n",
       "      <th>Churn Score</th>\n",
       "      <th>CLTV</th>\n",
       "    </tr>\n",
       "  </thead>\n",
       "  <tbody>\n",
       "    <tr>\n",
       "      <th>0</th>\n",
       "      <td>0</td>\n",
       "      <td>1</td>\n",
       "      <td>0</td>\n",
       "      <td>0</td>\n",
       "      <td>0</td>\n",
       "      <td>0</td>\n",
       "      <td>1</td>\n",
       "      <td>0</td>\n",
       "      <td>0</td>\n",
       "      <td>2</td>\n",
       "      <td>...</td>\n",
       "      <td>0</td>\n",
       "      <td>0</td>\n",
       "      <td>0</td>\n",
       "      <td>1</td>\n",
       "      <td>3</td>\n",
       "      <td>53.85</td>\n",
       "      <td>108.15</td>\n",
       "      <td>1</td>\n",
       "      <td>86</td>\n",
       "      <td>3239</td>\n",
       "    </tr>\n",
       "    <tr>\n",
       "      <th>1</th>\n",
       "      <td>1</td>\n",
       "      <td>0</td>\n",
       "      <td>0</td>\n",
       "      <td>0</td>\n",
       "      <td>1</td>\n",
       "      <td>0</td>\n",
       "      <td>1</td>\n",
       "      <td>0</td>\n",
       "      <td>1</td>\n",
       "      <td>0</td>\n",
       "      <td>...</td>\n",
       "      <td>0</td>\n",
       "      <td>0</td>\n",
       "      <td>0</td>\n",
       "      <td>1</td>\n",
       "      <td>2</td>\n",
       "      <td>70.70</td>\n",
       "      <td>151.65</td>\n",
       "      <td>1</td>\n",
       "      <td>67</td>\n",
       "      <td>2701</td>\n",
       "    </tr>\n",
       "    <tr>\n",
       "      <th>2</th>\n",
       "      <td>2</td>\n",
       "      <td>0</td>\n",
       "      <td>0</td>\n",
       "      <td>0</td>\n",
       "      <td>1</td>\n",
       "      <td>1</td>\n",
       "      <td>1</td>\n",
       "      <td>2</td>\n",
       "      <td>1</td>\n",
       "      <td>0</td>\n",
       "      <td>...</td>\n",
       "      <td>2</td>\n",
       "      <td>2</td>\n",
       "      <td>0</td>\n",
       "      <td>1</td>\n",
       "      <td>2</td>\n",
       "      <td>99.65</td>\n",
       "      <td>820.50</td>\n",
       "      <td>1</td>\n",
       "      <td>86</td>\n",
       "      <td>5372</td>\n",
       "    </tr>\n",
       "    <tr>\n",
       "      <th>3</th>\n",
       "      <td>3</td>\n",
       "      <td>0</td>\n",
       "      <td>0</td>\n",
       "      <td>1</td>\n",
       "      <td>1</td>\n",
       "      <td>5</td>\n",
       "      <td>1</td>\n",
       "      <td>2</td>\n",
       "      <td>1</td>\n",
       "      <td>0</td>\n",
       "      <td>...</td>\n",
       "      <td>2</td>\n",
       "      <td>2</td>\n",
       "      <td>0</td>\n",
       "      <td>1</td>\n",
       "      <td>2</td>\n",
       "      <td>104.80</td>\n",
       "      <td>3046.05</td>\n",
       "      <td>1</td>\n",
       "      <td>84</td>\n",
       "      <td>5003</td>\n",
       "    </tr>\n",
       "    <tr>\n",
       "      <th>4</th>\n",
       "      <td>4</td>\n",
       "      <td>1</td>\n",
       "      <td>0</td>\n",
       "      <td>0</td>\n",
       "      <td>1</td>\n",
       "      <td>9</td>\n",
       "      <td>1</td>\n",
       "      <td>2</td>\n",
       "      <td>1</td>\n",
       "      <td>0</td>\n",
       "      <td>...</td>\n",
       "      <td>2</td>\n",
       "      <td>2</td>\n",
       "      <td>0</td>\n",
       "      <td>1</td>\n",
       "      <td>0</td>\n",
       "      <td>103.70</td>\n",
       "      <td>5036.30</td>\n",
       "      <td>1</td>\n",
       "      <td>89</td>\n",
       "      <td>5340</td>\n",
       "    </tr>\n",
       "  </tbody>\n",
       "</table>\n",
       "<p>5 rows × 23 columns</p>\n",
       "</div>"
      ],
      "text/plain": [
       "   Unnamed: 0  Gender  Senior Citizen  Partner  Dependents  Tenure Months  \\\n",
       "0           0       1               0        0           0              0   \n",
       "1           1       0               0        0           1              0   \n",
       "2           2       0               0        0           1              1   \n",
       "3           3       0               0        1           1              5   \n",
       "4           4       1               0        0           1              9   \n",
       "\n",
       "   Phone Service  Multiple Lines  Internet Service  Online Security  ...  \\\n",
       "0              1               0                 0                2  ...   \n",
       "1              1               0                 1                0  ...   \n",
       "2              1               2                 1                0  ...   \n",
       "3              1               2                 1                0  ...   \n",
       "4              1               2                 1                0  ...   \n",
       "\n",
       "   Streaming TV  Streaming Movies  Contract  Paperless Billing  \\\n",
       "0             0                 0         0                  1   \n",
       "1             0                 0         0                  1   \n",
       "2             2                 2         0                  1   \n",
       "3             2                 2         0                  1   \n",
       "4             2                 2         0                  1   \n",
       "\n",
       "   Payment Method  Monthly Charges  Total Charges  Churn Value  Churn Score  \\\n",
       "0               3            53.85         108.15            1           86   \n",
       "1               2            70.70         151.65            1           67   \n",
       "2               2            99.65         820.50            1           86   \n",
       "3               2           104.80        3046.05            1           84   \n",
       "4               0           103.70        5036.30            1           89   \n",
       "\n",
       "   CLTV  \n",
       "0  3239  \n",
       "1  2701  \n",
       "2  5372  \n",
       "3  5003  \n",
       "4  5340  \n",
       "\n",
       "[5 rows x 23 columns]"
      ]
     },
     "execution_count": 47,
     "metadata": {},
     "output_type": "execute_result"
    }
   ],
   "source": [
    "# Dataset importation\n",
    "df = pd.read_csv('Telco_customer_churn-3.csv')\n",
    "df.head()"
   ]
  },
  {
   "cell_type": "code",
   "execution_count": 48,
   "metadata": {},
   "outputs": [
    {
     "name": "stdout",
     "output_type": "stream",
     "text": [
      "<class 'pandas.core.frame.DataFrame'>\n",
      "RangeIndex: 7043 entries, 0 to 7042\n",
      "Data columns (total 22 columns):\n",
      " #   Column             Non-Null Count  Dtype  \n",
      "---  ------             --------------  -----  \n",
      " 0   Gender             7043 non-null   int64  \n",
      " 1   Senior Citizen     7043 non-null   int64  \n",
      " 2   Partner            7043 non-null   int64  \n",
      " 3   Dependents         7043 non-null   int64  \n",
      " 4   Tenure Months      7043 non-null   int64  \n",
      " 5   Phone Service      7043 non-null   int64  \n",
      " 6   Multiple Lines     7043 non-null   int64  \n",
      " 7   Internet Service   7043 non-null   int64  \n",
      " 8   Online Security    7043 non-null   int64  \n",
      " 9   Online Backup      7043 non-null   int64  \n",
      " 10  Device Protection  7043 non-null   int64  \n",
      " 11  Tech Support       7043 non-null   int64  \n",
      " 12  Streaming TV       7043 non-null   int64  \n",
      " 13  Streaming Movies   7043 non-null   int64  \n",
      " 14  Contract           7043 non-null   int64  \n",
      " 15  Paperless Billing  7043 non-null   int64  \n",
      " 16  Payment Method     7043 non-null   int64  \n",
      " 17  Monthly Charges    7043 non-null   float64\n",
      " 18  Total Charges      7043 non-null   float64\n",
      " 19  Churn Value        7043 non-null   int64  \n",
      " 20  Churn Score        7043 non-null   int64  \n",
      " 21  CLTV               7043 non-null   int64  \n",
      "dtypes: float64(2), int64(20)\n",
      "memory usage: 1.2 MB\n"
     ]
    }
   ],
   "source": [
    "df.drop('Unnamed: 0', axis = 1, inplace = True)\n",
    "df.info()"
   ]
  },
  {
   "cell_type": "markdown",
   "metadata": {},
   "source": [
    "## Feature engineering"
   ]
  },
  {
   "cell_type": "markdown",
   "metadata": {},
   "source": [
    "### Scaling down 'Monthly Charges', 'Churn Score' and 'Total Charges' "
   ]
  },
  {
   "cell_type": "code",
   "execution_count": 49,
   "metadata": {},
   "outputs": [
    {
     "name": "stdout",
     "output_type": "stream",
     "text": [
      "      Total Charges  Monthly Charges  Churn Score      CLTV\n",
      "0          0.012453         0.354229     0.852632  0.274850\n",
      "1          0.017462         0.521891     0.652632  0.155215\n",
      "2          0.094475         0.809950     0.852632  0.749166\n",
      "3          0.350733         0.861194     0.831579  0.667111\n",
      "4          0.579898         0.850249     0.884211  0.742050\n",
      "...             ...              ...          ...       ...\n",
      "7038       0.163435         0.028856     0.421053  0.734490\n",
      "7039       0.229194         0.662189     0.568421  0.030465\n",
      "7040       0.847792         0.845274     0.694737  0.790972\n",
      "7041       0.039892         0.112935     0.568421  0.175673\n",
      "7042       0.788101         0.869652     0.347368  0.688014\n",
      "\n",
      "[7043 rows x 4 columns]\n"
     ]
    }
   ],
   "source": [
    "df[['Total Charges','Monthly Charges', 'Churn Score' ,'CLTV']] = scaler.fit_transform(df[['Total Charges','Monthly Charges', 'Churn Score','CLTV']])\n",
    "print(df[['Total Charges','Monthly Charges', 'Churn Score','CLTV']])"
   ]
  },
  {
   "cell_type": "code",
   "execution_count": 50,
   "metadata": {},
   "outputs": [
    {
     "data": {
      "text/html": [
       "<div>\n",
       "<style scoped>\n",
       "    .dataframe tbody tr th:only-of-type {\n",
       "        vertical-align: middle;\n",
       "    }\n",
       "\n",
       "    .dataframe tbody tr th {\n",
       "        vertical-align: top;\n",
       "    }\n",
       "\n",
       "    .dataframe thead th {\n",
       "        text-align: right;\n",
       "    }\n",
       "</style>\n",
       "<table border=\"1\" class=\"dataframe\">\n",
       "  <thead>\n",
       "    <tr style=\"text-align: right;\">\n",
       "      <th></th>\n",
       "      <th>Gender</th>\n",
       "      <th>Senior Citizen</th>\n",
       "      <th>Partner</th>\n",
       "      <th>Dependents</th>\n",
       "      <th>Tenure Months</th>\n",
       "      <th>Phone Service</th>\n",
       "      <th>Multiple Lines</th>\n",
       "      <th>Internet Service</th>\n",
       "      <th>Online Security</th>\n",
       "      <th>Online Backup</th>\n",
       "      <th>...</th>\n",
       "      <th>Streaming TV</th>\n",
       "      <th>Streaming Movies</th>\n",
       "      <th>Contract</th>\n",
       "      <th>Paperless Billing</th>\n",
       "      <th>Payment Method</th>\n",
       "      <th>Monthly Charges</th>\n",
       "      <th>Total Charges</th>\n",
       "      <th>Churn Value</th>\n",
       "      <th>Churn Score</th>\n",
       "      <th>CLTV</th>\n",
       "    </tr>\n",
       "  </thead>\n",
       "  <tbody>\n",
       "    <tr>\n",
       "      <th>0</th>\n",
       "      <td>1</td>\n",
       "      <td>0</td>\n",
       "      <td>0</td>\n",
       "      <td>0</td>\n",
       "      <td>0</td>\n",
       "      <td>1</td>\n",
       "      <td>0</td>\n",
       "      <td>0</td>\n",
       "      <td>2</td>\n",
       "      <td>2</td>\n",
       "      <td>...</td>\n",
       "      <td>0</td>\n",
       "      <td>0</td>\n",
       "      <td>0</td>\n",
       "      <td>1</td>\n",
       "      <td>3</td>\n",
       "      <td>0.354229</td>\n",
       "      <td>0.012453</td>\n",
       "      <td>1</td>\n",
       "      <td>0.852632</td>\n",
       "      <td>0.274850</td>\n",
       "    </tr>\n",
       "    <tr>\n",
       "      <th>1</th>\n",
       "      <td>0</td>\n",
       "      <td>0</td>\n",
       "      <td>0</td>\n",
       "      <td>1</td>\n",
       "      <td>0</td>\n",
       "      <td>1</td>\n",
       "      <td>0</td>\n",
       "      <td>1</td>\n",
       "      <td>0</td>\n",
       "      <td>0</td>\n",
       "      <td>...</td>\n",
       "      <td>0</td>\n",
       "      <td>0</td>\n",
       "      <td>0</td>\n",
       "      <td>1</td>\n",
       "      <td>2</td>\n",
       "      <td>0.521891</td>\n",
       "      <td>0.017462</td>\n",
       "      <td>1</td>\n",
       "      <td>0.652632</td>\n",
       "      <td>0.155215</td>\n",
       "    </tr>\n",
       "    <tr>\n",
       "      <th>2</th>\n",
       "      <td>0</td>\n",
       "      <td>0</td>\n",
       "      <td>0</td>\n",
       "      <td>1</td>\n",
       "      <td>1</td>\n",
       "      <td>1</td>\n",
       "      <td>2</td>\n",
       "      <td>1</td>\n",
       "      <td>0</td>\n",
       "      <td>0</td>\n",
       "      <td>...</td>\n",
       "      <td>2</td>\n",
       "      <td>2</td>\n",
       "      <td>0</td>\n",
       "      <td>1</td>\n",
       "      <td>2</td>\n",
       "      <td>0.809950</td>\n",
       "      <td>0.094475</td>\n",
       "      <td>1</td>\n",
       "      <td>0.852632</td>\n",
       "      <td>0.749166</td>\n",
       "    </tr>\n",
       "    <tr>\n",
       "      <th>3</th>\n",
       "      <td>0</td>\n",
       "      <td>0</td>\n",
       "      <td>1</td>\n",
       "      <td>1</td>\n",
       "      <td>5</td>\n",
       "      <td>1</td>\n",
       "      <td>2</td>\n",
       "      <td>1</td>\n",
       "      <td>0</td>\n",
       "      <td>0</td>\n",
       "      <td>...</td>\n",
       "      <td>2</td>\n",
       "      <td>2</td>\n",
       "      <td>0</td>\n",
       "      <td>1</td>\n",
       "      <td>2</td>\n",
       "      <td>0.861194</td>\n",
       "      <td>0.350733</td>\n",
       "      <td>1</td>\n",
       "      <td>0.831579</td>\n",
       "      <td>0.667111</td>\n",
       "    </tr>\n",
       "    <tr>\n",
       "      <th>4</th>\n",
       "      <td>1</td>\n",
       "      <td>0</td>\n",
       "      <td>0</td>\n",
       "      <td>1</td>\n",
       "      <td>9</td>\n",
       "      <td>1</td>\n",
       "      <td>2</td>\n",
       "      <td>1</td>\n",
       "      <td>0</td>\n",
       "      <td>2</td>\n",
       "      <td>...</td>\n",
       "      <td>2</td>\n",
       "      <td>2</td>\n",
       "      <td>0</td>\n",
       "      <td>1</td>\n",
       "      <td>0</td>\n",
       "      <td>0.850249</td>\n",
       "      <td>0.579898</td>\n",
       "      <td>1</td>\n",
       "      <td>0.884211</td>\n",
       "      <td>0.742050</td>\n",
       "    </tr>\n",
       "  </tbody>\n",
       "</table>\n",
       "<p>5 rows × 22 columns</p>\n",
       "</div>"
      ],
      "text/plain": [
       "   Gender  Senior Citizen  Partner  Dependents  Tenure Months  Phone Service  \\\n",
       "0       1               0        0           0              0              1   \n",
       "1       0               0        0           1              0              1   \n",
       "2       0               0        0           1              1              1   \n",
       "3       0               0        1           1              5              1   \n",
       "4       1               0        0           1              9              1   \n",
       "\n",
       "   Multiple Lines  Internet Service  Online Security  Online Backup  ...  \\\n",
       "0               0                 0                2              2  ...   \n",
       "1               0                 1                0              0  ...   \n",
       "2               2                 1                0              0  ...   \n",
       "3               2                 1                0              0  ...   \n",
       "4               2                 1                0              2  ...   \n",
       "\n",
       "   Streaming TV  Streaming Movies  Contract  Paperless Billing  \\\n",
       "0             0                 0         0                  1   \n",
       "1             0                 0         0                  1   \n",
       "2             2                 2         0                  1   \n",
       "3             2                 2         0                  1   \n",
       "4             2                 2         0                  1   \n",
       "\n",
       "   Payment Method  Monthly Charges  Total Charges  Churn Value  Churn Score  \\\n",
       "0               3         0.354229       0.012453            1     0.852632   \n",
       "1               2         0.521891       0.017462            1     0.652632   \n",
       "2               2         0.809950       0.094475            1     0.852632   \n",
       "3               2         0.861194       0.350733            1     0.831579   \n",
       "4               0         0.850249       0.579898            1     0.884211   \n",
       "\n",
       "       CLTV  \n",
       "0  0.274850  \n",
       "1  0.155215  \n",
       "2  0.749166  \n",
       "3  0.667111  \n",
       "4  0.742050  \n",
       "\n",
       "[5 rows x 22 columns]"
      ]
     },
     "execution_count": 50,
     "metadata": {},
     "output_type": "execute_result"
    }
   ],
   "source": [
    "df.head()"
   ]
  },
  {
   "cell_type": "markdown",
   "metadata": {},
   "source": [
    "### Using 'ExtraExtraTreesClassifier' for analysing feature importances and selection"
   ]
  },
  {
   "cell_type": "code",
   "execution_count": 51,
   "metadata": {},
   "outputs": [],
   "source": [
    "X = df.drop('Churn Value',axis = 1)\n",
    "y = df['Churn Value']"
   ]
  },
  {
   "cell_type": "code",
   "execution_count": 52,
   "metadata": {},
   "outputs": [
    {
     "name": "stdout",
     "output_type": "stream",
     "text": [
      "(7043, 21) (7043,)\n"
     ]
    }
   ],
   "source": [
    "# Verifying shape\n",
    "print(X.shape, y.shape)"
   ]
  },
  {
   "cell_type": "code",
   "execution_count": 53,
   "metadata": {},
   "outputs": [
    {
     "data": {
      "text/html": [
       "<style>#sk-container-id-3 {color: black;}#sk-container-id-3 pre{padding: 0;}#sk-container-id-3 div.sk-toggleable {background-color: white;}#sk-container-id-3 label.sk-toggleable__label {cursor: pointer;display: block;width: 100%;margin-bottom: 0;padding: 0.3em;box-sizing: border-box;text-align: center;}#sk-container-id-3 label.sk-toggleable__label-arrow:before {content: \"▸\";float: left;margin-right: 0.25em;color: #696969;}#sk-container-id-3 label.sk-toggleable__label-arrow:hover:before {color: black;}#sk-container-id-3 div.sk-estimator:hover label.sk-toggleable__label-arrow:before {color: black;}#sk-container-id-3 div.sk-toggleable__content {max-height: 0;max-width: 0;overflow: hidden;text-align: left;background-color: #f0f8ff;}#sk-container-id-3 div.sk-toggleable__content pre {margin: 0.2em;color: black;border-radius: 0.25em;background-color: #f0f8ff;}#sk-container-id-3 input.sk-toggleable__control:checked~div.sk-toggleable__content {max-height: 200px;max-width: 100%;overflow: auto;}#sk-container-id-3 input.sk-toggleable__control:checked~label.sk-toggleable__label-arrow:before {content: \"▾\";}#sk-container-id-3 div.sk-estimator input.sk-toggleable__control:checked~label.sk-toggleable__label {background-color: #d4ebff;}#sk-container-id-3 div.sk-label input.sk-toggleable__control:checked~label.sk-toggleable__label {background-color: #d4ebff;}#sk-container-id-3 input.sk-hidden--visually {border: 0;clip: rect(1px 1px 1px 1px);clip: rect(1px, 1px, 1px, 1px);height: 1px;margin: -1px;overflow: hidden;padding: 0;position: absolute;width: 1px;}#sk-container-id-3 div.sk-estimator {font-family: monospace;background-color: #f0f8ff;border: 1px dotted black;border-radius: 0.25em;box-sizing: border-box;margin-bottom: 0.5em;}#sk-container-id-3 div.sk-estimator:hover {background-color: #d4ebff;}#sk-container-id-3 div.sk-parallel-item::after {content: \"\";width: 100%;border-bottom: 1px solid gray;flex-grow: 1;}#sk-container-id-3 div.sk-label:hover label.sk-toggleable__label {background-color: #d4ebff;}#sk-container-id-3 div.sk-serial::before {content: \"\";position: absolute;border-left: 1px solid gray;box-sizing: border-box;top: 0;bottom: 0;left: 50%;z-index: 0;}#sk-container-id-3 div.sk-serial {display: flex;flex-direction: column;align-items: center;background-color: white;padding-right: 0.2em;padding-left: 0.2em;position: relative;}#sk-container-id-3 div.sk-item {position: relative;z-index: 1;}#sk-container-id-3 div.sk-parallel {display: flex;align-items: stretch;justify-content: center;background-color: white;position: relative;}#sk-container-id-3 div.sk-item::before, #sk-container-id-3 div.sk-parallel-item::before {content: \"\";position: absolute;border-left: 1px solid gray;box-sizing: border-box;top: 0;bottom: 0;left: 50%;z-index: -1;}#sk-container-id-3 div.sk-parallel-item {display: flex;flex-direction: column;z-index: 1;position: relative;background-color: white;}#sk-container-id-3 div.sk-parallel-item:first-child::after {align-self: flex-end;width: 50%;}#sk-container-id-3 div.sk-parallel-item:last-child::after {align-self: flex-start;width: 50%;}#sk-container-id-3 div.sk-parallel-item:only-child::after {width: 0;}#sk-container-id-3 div.sk-dashed-wrapped {border: 1px dashed gray;margin: 0 0.4em 0.5em 0.4em;box-sizing: border-box;padding-bottom: 0.4em;background-color: white;}#sk-container-id-3 div.sk-label label {font-family: monospace;font-weight: bold;display: inline-block;line-height: 1.2em;}#sk-container-id-3 div.sk-label-container {text-align: center;}#sk-container-id-3 div.sk-container {/* jupyter's `normalize.less` sets `[hidden] { display: none; }` but bootstrap.min.css set `[hidden] { display: none !important; }` so we also need the `!important` here to be able to override the default hidden behavior on the sphinx rendered scikit-learn.org. See: https://github.com/scikit-learn/scikit-learn/issues/21755 */display: inline-block !important;position: relative;}#sk-container-id-3 div.sk-text-repr-fallback {display: none;}</style><div id=\"sk-container-id-3\" class=\"sk-top-container\"><div class=\"sk-text-repr-fallback\"><pre>ExtraTreesClassifier()</pre><b>In a Jupyter environment, please rerun this cell to show the HTML representation or trust the notebook. <br />On GitHub, the HTML representation is unable to render, please try loading this page with nbviewer.org.</b></div><div class=\"sk-container\" hidden><div class=\"sk-item\"><div class=\"sk-estimator sk-toggleable\"><input class=\"sk-toggleable__control sk-hidden--visually\" id=\"sk-estimator-id-3\" type=\"checkbox\" checked><label for=\"sk-estimator-id-3\" class=\"sk-toggleable__label sk-toggleable__label-arrow\">ExtraTreesClassifier</label><div class=\"sk-toggleable__content\"><pre>ExtraTreesClassifier()</pre></div></div></div></div></div>"
      ],
      "text/plain": [
       "ExtraTreesClassifier()"
      ]
     },
     "execution_count": 53,
     "metadata": {},
     "output_type": "execute_result"
    }
   ],
   "source": [
    "model = ExtraTreesClassifier()\n",
    "model.fit(X,y)"
   ]
  },
  {
   "cell_type": "code",
   "execution_count": 54,
   "metadata": {},
   "outputs": [],
   "source": [
    "features = pd.Series(model.feature_importances_,index=X.columns)"
   ]
  },
  {
   "cell_type": "code",
   "execution_count": 55,
   "metadata": {},
   "outputs": [
    {
     "data": {
      "text/plain": [
       "<Axes: >"
      ]
     },
     "execution_count": 55,
     "metadata": {},
     "output_type": "execute_result"
    },
    {
     "data": {
      "image/png": "[encoded data removed]",
      "text/plain": [
       "<Figure size 640x480 with 1 Axes>"
      ]
     },
     "metadata": {},
     "output_type": "display_data"
    }
   ],
   "source": [
    "features.nlargest(20).plot(kind='barh')"
   ]
  },
  {
   "cell_type": "markdown",
   "metadata": {},
   "source": [
    "Selecting the top 6 most important features. (Big drop from 6 to 7, model accuracy has already been tested around different selected features)"
   ]
  },
  {
   "cell_type": "code",
   "execution_count": 56,
   "metadata": {},
   "outputs": [
    {
     "data": {
      "text/html": [
       "<div>\n",
       "<style scoped>\n",
       "    .dataframe tbody tr th:only-of-type {\n",
       "        vertical-align: middle;\n",
       "    }\n",
       "\n",
       "    .dataframe tbody tr th {\n",
       "        vertical-align: top;\n",
       "    }\n",
       "\n",
       "    .dataframe thead th {\n",
       "        text-align: right;\n",
       "    }\n",
       "</style>\n",
       "<table border=\"1\" class=\"dataframe\">\n",
       "  <thead>\n",
       "    <tr style=\"text-align: right;\">\n",
       "      <th></th>\n",
       "      <th>Churn Score</th>\n",
       "      <th>Tenure Months</th>\n",
       "      <th>Contract</th>\n",
       "      <th>Total Charges</th>\n",
       "      <th>Monthly Charges</th>\n",
       "      <th>CLTV</th>\n",
       "    </tr>\n",
       "  </thead>\n",
       "  <tbody>\n",
       "    <tr>\n",
       "      <th>0</th>\n",
       "      <td>0.852632</td>\n",
       "      <td>0</td>\n",
       "      <td>0</td>\n",
       "      <td>0.012453</td>\n",
       "      <td>0.354229</td>\n",
       "      <td>0.274850</td>\n",
       "    </tr>\n",
       "    <tr>\n",
       "      <th>1</th>\n",
       "      <td>0.652632</td>\n",
       "      <td>0</td>\n",
       "      <td>0</td>\n",
       "      <td>0.017462</td>\n",
       "      <td>0.521891</td>\n",
       "      <td>0.155215</td>\n",
       "    </tr>\n",
       "    <tr>\n",
       "      <th>2</th>\n",
       "      <td>0.852632</td>\n",
       "      <td>1</td>\n",
       "      <td>0</td>\n",
       "      <td>0.094475</td>\n",
       "      <td>0.809950</td>\n",
       "      <td>0.749166</td>\n",
       "    </tr>\n",
       "    <tr>\n",
       "      <th>3</th>\n",
       "      <td>0.831579</td>\n",
       "      <td>5</td>\n",
       "      <td>0</td>\n",
       "      <td>0.350733</td>\n",
       "      <td>0.861194</td>\n",
       "      <td>0.667111</td>\n",
       "    </tr>\n",
       "    <tr>\n",
       "      <th>4</th>\n",
       "      <td>0.884211</td>\n",
       "      <td>9</td>\n",
       "      <td>0</td>\n",
       "      <td>0.579898</td>\n",
       "      <td>0.850249</td>\n",
       "      <td>0.742050</td>\n",
       "    </tr>\n",
       "    <tr>\n",
       "      <th>...</th>\n",
       "      <td>...</td>\n",
       "      <td>...</td>\n",
       "      <td>...</td>\n",
       "      <td>...</td>\n",
       "      <td>...</td>\n",
       "      <td>...</td>\n",
       "    </tr>\n",
       "    <tr>\n",
       "      <th>7038</th>\n",
       "      <td>0.421053</td>\n",
       "      <td>14</td>\n",
       "      <td>2</td>\n",
       "      <td>0.163435</td>\n",
       "      <td>0.028856</td>\n",
       "      <td>0.734490</td>\n",
       "    </tr>\n",
       "    <tr>\n",
       "      <th>7039</th>\n",
       "      <td>0.568421</td>\n",
       "      <td>4</td>\n",
       "      <td>1</td>\n",
       "      <td>0.229194</td>\n",
       "      <td>0.662189</td>\n",
       "      <td>0.030465</td>\n",
       "    </tr>\n",
       "    <tr>\n",
       "      <th>7040</th>\n",
       "      <td>0.694737</td>\n",
       "      <td>14</td>\n",
       "      <td>1</td>\n",
       "      <td>0.847792</td>\n",
       "      <td>0.845274</td>\n",
       "      <td>0.790972</td>\n",
       "    </tr>\n",
       "    <tr>\n",
       "      <th>7041</th>\n",
       "      <td>0.568421</td>\n",
       "      <td>2</td>\n",
       "      <td>0</td>\n",
       "      <td>0.039892</td>\n",
       "      <td>0.112935</td>\n",
       "      <td>0.175673</td>\n",
       "    </tr>\n",
       "    <tr>\n",
       "      <th>7042</th>\n",
       "      <td>0.347368</td>\n",
       "      <td>13</td>\n",
       "      <td>2</td>\n",
       "      <td>0.788101</td>\n",
       "      <td>0.869652</td>\n",
       "      <td>0.688014</td>\n",
       "    </tr>\n",
       "  </tbody>\n",
       "</table>\n",
       "<p>7043 rows × 6 columns</p>\n",
       "</div>"
      ],
      "text/plain": [
       "      Churn Score  Tenure Months  Contract  Total Charges  Monthly Charges  \\\n",
       "0        0.852632              0         0       0.012453         0.354229   \n",
       "1        0.652632              0         0       0.017462         0.521891   \n",
       "2        0.852632              1         0       0.094475         0.809950   \n",
       "3        0.831579              5         0       0.350733         0.861194   \n",
       "4        0.884211              9         0       0.579898         0.850249   \n",
       "...           ...            ...       ...            ...              ...   \n",
       "7038     0.421053             14         2       0.163435         0.028856   \n",
       "7039     0.568421              4         1       0.229194         0.662189   \n",
       "7040     0.694737             14         1       0.847792         0.845274   \n",
       "7041     0.568421              2         0       0.039892         0.112935   \n",
       "7042     0.347368             13         2       0.788101         0.869652   \n",
       "\n",
       "          CLTV  \n",
       "0     0.274850  \n",
       "1     0.155215  \n",
       "2     0.749166  \n",
       "3     0.667111  \n",
       "4     0.742050  \n",
       "...        ...  \n",
       "7038  0.734490  \n",
       "7039  0.030465  \n",
       "7040  0.790972  \n",
       "7041  0.175673  \n",
       "7042  0.688014  \n",
       "\n",
       "[7043 rows x 6 columns]"
      ]
     },
     "execution_count": 56,
     "metadata": {},
     "output_type": "execute_result"
    }
   ],
   "source": [
    "X = df[list(features.nlargest(6).index)]\n",
    "X"
   ]
  },
  {
   "cell_type": "markdown",
   "metadata": {},
   "source": [
    "### Experiment: First testing with all classification models"
   ]
  },
  {
   "cell_type": "code",
   "execution_count": 57,
   "metadata": {},
   "outputs": [],
   "source": [
    "model_svc = SVC()\n",
    "model_lr = LogisticRegression(max_iter = 1000)\n",
    "model_dt = DecisionTreeClassifier()\n",
    "model_rfc = RandomForestClassifier()\n",
    "model_knn = KNeighborsClassifier()\n",
    "model_nbc = GaussianNB()"
   ]
  },
  {
   "cell_type": "markdown",
   "metadata": {},
   "source": [
    "## Model cross-validation"
   ]
  },
  {
   "cell_type": "code",
   "execution_count": 58,
   "metadata": {},
   "outputs": [
    {
     "name": "stdout",
     "output_type": "stream",
     "text": [
      "Average score of SVC:  0.8945021357188911\n",
      "Average score of LR:  0.9094116698903931\n",
      "Average score of DTC:  0.9031675128949065\n",
      "Average score of RFC:  0.9237530222437137\n",
      "Average score of KNC: 0.896773855577047\n",
      "Average score of NBC 0.8828594455190201\n"
     ]
    }
   ],
   "source": [
    "# using cross validation score to avoid overfitting\n",
    "\n",
    "scores_svc = cross_val_score(model_svc,X,y,cv = 10)\n",
    "print('Average score of SVC: ',sum(scores_svc)/10)\n",
    "\n",
    "scores_lr = cross_val_score(model_lr,X,y,cv = 10)\n",
    "print('Average score of LR: ', sum(scores_lr)/10)\n",
    "\n",
    "scores_dtc = cross_val_score(model_dt,X,y,cv = 10)\n",
    "print('Average score of DTC: ', sum(scores_dtc)/10)\n",
    "\n",
    "scores_rfc = cross_val_score(model_rfc,X,y,cv = 10)\n",
    "#78 -> 80+\n",
    "print('Average score of RFC: ', sum(scores_rfc)/10)\n",
    "\n",
    "scores_knc = cross_val_score(model_knn,X,y,cv = 10)\n",
    "print('Average score of KNC:',sum(scores_knc)/10)\n",
    "\n",
    "scores_nbc = cross_val_score(model_nbc,X,y,cv = 10)\n",
    "print('Average score of NBC', sum(scores_nbc)/10)"
   ]
  },
  {
   "cell_type": "markdown",
   "metadata": {},
   "source": [
    "## Testing models on major classification metrics"
   ]
  },
  {
   "cell_type": "code",
   "execution_count": 59,
   "metadata": {},
   "outputs": [],
   "source": [
    "X_train, X_test, y_train, y_test = train_test_split(X, y, test_size=0.2, random_state=0)\n",
    "\n",
    "# Creating a list of models for iteration\n",
    "models = [\n",
    "    (\"SVC\", model_svc),\n",
    "    (\"Logistic Regression\", model_lr),\n",
    "    (\"Decision Tree\", model_dt),\n",
    "    (\"Random Forest\", model_rfc),\n",
    "    (\"K-Nearest Neighbors\", model_knn),\n",
    "    (\"Naive Bayes\", model_nbc)\n",
    "]"
   ]
  },
  {
   "cell_type": "markdown",
   "metadata": {},
   "source": [
    "Code to check top classification metrics over all major models"
   ]
  },
  {
   "cell_type": "code",
   "execution_count": 60,
   "metadata": {},
   "outputs": [
    {
     "name": "stdout",
     "output_type": "stream",
     "text": [
      "Model: SVC\n",
      "Accuracy: 0.89\n",
      "Precision: 0.81\n",
      "Recall: 0.73\n",
      "F1 Score: 0.77\n",
      "Confusion Matrix:\n",
      "[[988  60]\n",
      " [ 98 263]]\n",
      "Final classification report:\n",
      "              precision    recall  f1-score   support\n",
      "\n",
      "           0       0.91      0.94      0.93      1048\n",
      "           1       0.81      0.73      0.77       361\n",
      "\n",
      "    accuracy                           0.89      1409\n",
      "   macro avg       0.86      0.84      0.85      1409\n",
      "weighted avg       0.89      0.89      0.89      1409\n",
      "\n",
      "\n",
      "\n",
      "\n",
      "Model: Logistic Regression\n",
      "Accuracy: 0.91\n",
      "Precision: 0.82\n",
      "Recall: 0.83\n",
      "F1 Score: 0.82\n",
      "Confusion Matrix:\n",
      "[[984  64]\n",
      " [ 63 298]]\n",
      "Final classification report:\n",
      "              precision    recall  f1-score   support\n",
      "\n",
      "           0       0.94      0.94      0.94      1048\n",
      "           1       0.82      0.83      0.82       361\n",
      "\n",
      "    accuracy                           0.91      1409\n",
      "   macro avg       0.88      0.88      0.88      1409\n",
      "weighted avg       0.91      0.91      0.91      1409\n",
      "\n",
      "\n",
      "\n",
      "\n",
      "Model: Decision Tree\n",
      "Accuracy: 0.92\n",
      "Precision: 0.84\n",
      "Recall: 0.84\n",
      "F1 Score: 0.84\n",
      "Confusion Matrix:\n",
      "[[991  57]\n",
      " [ 56 305]]\n",
      "Final classification report:\n",
      "              precision    recall  f1-score   support\n",
      "\n",
      "           0       0.95      0.95      0.95      1048\n",
      "           1       0.84      0.84      0.84       361\n",
      "\n",
      "    accuracy                           0.92      1409\n",
      "   macro avg       0.89      0.90      0.89      1409\n",
      "weighted avg       0.92      0.92      0.92      1409\n",
      "\n",
      "\n",
      "\n",
      "\n",
      "Model: Random Forest\n",
      "Accuracy: 0.92\n",
      "Precision: 0.87\n",
      "Recall: 0.84\n",
      "F1 Score: 0.85\n",
      "Confusion Matrix:\n",
      "[[1001   47]\n",
      " [  59  302]]\n",
      "Final classification report:\n",
      "              precision    recall  f1-score   support\n",
      "\n",
      "           0       0.94      0.96      0.95      1048\n",
      "           1       0.87      0.84      0.85       361\n",
      "\n",
      "    accuracy                           0.92      1409\n",
      "   macro avg       0.90      0.90      0.90      1409\n",
      "weighted avg       0.92      0.92      0.92      1409\n",
      "\n",
      "\n",
      "\n",
      "\n",
      "Model: K-Nearest Neighbors\n",
      "Accuracy: 0.90\n",
      "Precision: 0.82\n",
      "Recall: 0.77\n",
      "F1 Score: 0.79\n",
      "Confusion Matrix:\n",
      "[[985  63]\n",
      " [ 82 279]]\n",
      "Final classification report:\n",
      "              precision    recall  f1-score   support\n",
      "\n",
      "           0       0.92      0.94      0.93      1048\n",
      "           1       0.82      0.77      0.79       361\n",
      "\n",
      "    accuracy                           0.90      1409\n",
      "   macro avg       0.87      0.86      0.86      1409\n",
      "weighted avg       0.90      0.90      0.90      1409\n",
      "\n",
      "\n",
      "\n",
      "\n",
      "Model: Naive Bayes\n",
      "Accuracy: 0.87\n",
      "Precision: 0.72\n",
      "Recall: 0.84\n",
      "F1 Score: 0.78\n",
      "Confusion Matrix:\n",
      "[[927 121]\n",
      " [ 56 305]]\n",
      "Final classification report:\n",
      "              precision    recall  f1-score   support\n",
      "\n",
      "           0       0.94      0.88      0.91      1048\n",
      "           1       0.72      0.84      0.78       361\n",
      "\n",
      "    accuracy                           0.87      1409\n",
      "   macro avg       0.83      0.86      0.84      1409\n",
      "weighted avg       0.88      0.87      0.88      1409\n",
      "\n",
      "\n",
      "\n",
      "\n"
     ]
    }
   ],
   "source": [
    "# Iterate through models and evaluate performance\n",
    "for name, model in models:\n",
    "\n",
    "    # Fit and predict the data\n",
    "    model.fit(X_train, y_train)\n",
    "    y_pred = model.predict(X_test)\n",
    "    \n",
    "    # Calculate evaluation metrics\n",
    "    accuracy = accuracy_score(y_test, y_pred)\n",
    "    precision = precision_score(y_test, y_pred)\n",
    "    recall = recall_score(y_test, y_pred)\n",
    "    f1 = f1_score(y_test, y_pred)\n",
    "    conf_matrix = confusion_matrix(y_test, y_pred)\n",
    "    \n",
    "    # Display results\n",
    "    print(f\"Model: {name}\")\n",
    "    print(f\"Accuracy: {accuracy:.2f}\")\n",
    "    print(f\"Precision: {precision:.2f}\")\n",
    "    print(f\"Recall: {recall:.2f}\")\n",
    "    print(f\"F1 Score: {f1:.2f}\")\n",
    "    print(\"Confusion Matrix:\")\n",
    "    print(conf_matrix)\n",
    "    print(\"Final classification report:\")\n",
    "    print(classification_report(y_test, y_pred))\n",
    "    print(\"\\n\\n\")\n"
   ]
  },
  {
   "cell_type": "code",
   "execution_count": 61,
   "metadata": {},
   "outputs": [
    {
     "data": {
      "text/plain": [
       "<Axes: >"
      ]
     },
     "execution_count": 61,
     "metadata": {},
     "output_type": "execute_result"
    },
    {
     "data": {
      "image/png": "[encoded data removed]",
      "text/plain": [
       "<Figure size 640x480 with 1 Axes>"
      ]
     },
     "metadata": {},
     "output_type": "display_data"
    }
   ],
   "source": [
    "feature_importances = model_rfc.feature_importances_\n",
    "\n",
    "# Create a Pandas Series for easier analysis and visualization\n",
    "features = pd.Series(feature_importances, index=X.columns)\n",
    "features.nlargest(11).plot(kind='barh')"
   ]
  },
  {
   "cell_type": "markdown",
   "metadata": {},
   "source": [
    "Churn score label specially made to calculate churn is extremely important in churn prediction compared to any other features."
   ]
  },
  {
   "cell_type": "markdown",
   "metadata": {},
   "source": [
    "## Visualising results"
   ]
  },
  {
   "cell_type": "markdown",
   "metadata": {},
   "source": [
    "#### Below is a code snippet to visualise results based off different metrics for each model!"
   ]
  },
  {
   "cell_type": "code",
   "execution_count": 62,
   "metadata": {},
   "outputs": [],
   "source": [
    "import numpy as np\n",
    "import matplotlib.pyplot as plt\n",
    "\n",
    "# Creating lists to store model names and their corresponding metric scores\n",
    "model_names = []\n",
    "accuracy_scores = []\n",
    "precision_scores = []\n",
    "recall_scores = []\n",
    "f1_scores = []  \n",
    "\n",
    "# Iterate through models and evaluate performance\n",
    "for name, model in models:\n",
    "    # Fit the model and make predictions\n",
    "    model.fit(X_train, y_train)\n",
    "    y_pred = model.predict(X_test)\n",
    "    \n",
    "    # Evaluation metrics\n",
    "    accuracy = accuracy_score(y_test, y_pred)\n",
    "    precision = precision_score(y_test, y_pred)\n",
    "    recall = recall_score(y_test, y_pred)\n",
    "    f1 = f1_score(y_test, y_pred)  # Calculate F1 score\n",
    "    \n",
    "    # Append model name and metric scores to lists\n",
    "    model_names.append(name)\n",
    "    accuracy_scores.append(accuracy)\n",
    "    precision_scores.append(precision)\n",
    "    recall_scores.append(recall)\n",
    "    f1_scores.append(f1)  \n",
    "\n"
   ]
  },
  {
   "cell_type": "markdown",
   "metadata": {},
   "source": [
    "### Creating a grouped bar chart to visualize multiple metrics for each model"
   ]
  },
  {
   "cell_type": "code",
   "execution_count": 63,
   "metadata": {},
   "outputs": [
    {
     "data": {
      "image/png": "[encoded data removed]",
      "text/plain": [
       "<Figure size 1200x600 with 1 Axes>"
      ]
     },
     "metadata": {},
     "output_type": "display_data"
    }
   ],
   "source": [
    "# Below is a code snippet for the bar chart.\n",
    "bar_width = 0.15\n",
    "index = np.arange(len(model_names))\n",
    "opacity = 0.8\n",
    "\n",
    "plt.figure(figsize=(12, 6))\n",
    "\n",
    "bar1 = plt.bar(index, accuracy_scores, bar_width, label='Accuracy', alpha=opacity, color='skyblue')\n",
    "bar2 = plt.bar(index + bar_width, precision_scores, bar_width, label='Precision', alpha=opacity, color='lightcoral')\n",
    "bar3 = plt.bar(index + 2 * bar_width, recall_scores, bar_width, label='Recall', alpha=opacity, color='lightgreen')\n",
    "bar4 = plt.bar(index + 3 * bar_width, f1_scores, bar_width, label='F1 Score', alpha=opacity, color='lightblue')  # New bar for F1 score\n",
    "\n",
    "plt.xlabel('Model')\n",
    "plt.ylabel('Scores')\n",
    "plt.title('Model Performance Comparison')\n",
    "plt.xticks(index + 1.5 * bar_width, model_names, rotation=45)\n",
    "\n",
    "# Move the legend outside the plot to the upper left\n",
    "plt.legend(loc='upper left', bbox_to_anchor=(1, 1))\n",
    "\n",
    "# Add value labels precisely on top of each bar with adjusted vertical offset\n",
    "for bars in [bar1, bar2, bar3, bar4]:\n",
    "    for bar in bars:\n",
    "        height = bar.get_height()\n",
    "        plt.annotate('%.2f' % height,\n",
    "                     xy=(bar.get_x() + bar.get_width() / 2, height),\n",
    "                     xytext=(0, 2),  # Adjusted vertical offset for precise positioning\n",
    "                     textcoords=\"offset points\",\n",
    "                     ha='center', va='bottom',\n",
    "                     fontsize=8)  # Smaller font size\n",
    "\n",
    "plt.tight_layout()\n",
    "plt.show()"
   ]
  },
  {
   "cell_type": "markdown",
   "metadata": {},
   "source": [
    "Random forest is producing the best results."
   ]
  },
  {
   "cell_type": "markdown",
   "metadata": {},
   "source": [
    "## Hyperparameter tuning"
   ]
  },
  {
   "cell_type": "markdown",
   "metadata": {},
   "source": [
    "__Fine-tuning the parameters of Random forest to further optimise its performance__"
   ]
  },
  {
   "cell_type": "code",
   "execution_count": 64,
   "metadata": {},
   "outputs": [
    {
     "name": "stdout",
     "output_type": "stream",
     "text": [
      "Best Hyperparameters: {'bootstrap': True, 'max_depth': None, 'max_features': 1, 'min_samples_leaf': 4, 'min_samples_split': 2, 'n_estimators': 300}\n",
      "Best F1 Score: 0.8625163569408588\n"
     ]
    }
   ],
   "source": [
    "# Actual code\n",
    "X_train, X_test, y_train, y_test = train_test_split(X, y, test_size=0.2, random_state=42)\n",
    "\n",
    "# Defining the parameter grid to search through\n",
    "param_grid = {\n",
    "    'n_estimators': [100, 200, 300], # Number of trees in forest\n",
    "    'max_depth': [None, 10, 20], # Maximum depth of trees\n",
    "    'min_samples_split': [2, 5, 10], # Minimum samples required to split an internal node\n",
    "    'min_samples_leaf': [1, 2, 4], # Minimum number of samples to be at leaf node\n",
    "    'max_features': [1, 'sqrt', 'log2'], # Number of features to consider when looking for the best split\n",
    "    'bootstrap': [True, False],     # Use bootstrap samples for building trees\n",
    "}\n",
    "\n",
    "rfc = RandomForestClassifier(random_state=42)\n",
    "\n",
    "# Initializing and fitting GridSearchCV with RFC and the parameter grid\n",
    "grid_search = GridSearchCV(estimator=rfc, param_grid=param_grid, cv=5, scoring='f1', n_jobs=-1)\n",
    "grid_search.fit(X_train, y_train)\n",
    "\n",
    "\n",
    "print(\"Best Hyperparameters:\", grid_search.best_params_)\n",
    "print(\"Best F1 Score:\", grid_search.best_score_)\n",
    "\n",
    "# Getting the model with the best hyperparameters\n",
    "best_rfc = grid_search.best_estimator_"
   ]
  },
  {
   "cell_type": "markdown",
   "metadata": {},
   "source": [
    "### Optimised model results"
   ]
  },
  {
   "cell_type": "code",
   "execution_count": 65,
   "metadata": {},
   "outputs": [
    {
     "name": "stdout",
     "output_type": "stream",
     "text": [
      "Model: Random Forest Classifier\n",
      "Accuracy: 0.93\n",
      "Precision: 0.88\n",
      "Recall: 0.85\n",
      "F1 Score: 0.87\n",
      "Confusion Matrix:\n",
      "[[964  45]\n",
      " [ 59 341]]\n",
      "Final classification report:\n",
      "              precision    recall  f1-score   support\n",
      "\n",
      "           0       0.94      0.96      0.95      1009\n",
      "           1       0.88      0.85      0.87       400\n",
      "\n",
      "    accuracy                           0.93      1409\n",
      "   macro avg       0.91      0.90      0.91      1409\n",
      "weighted avg       0.93      0.93      0.93      1409\n",
      "\n"
     ]
    }
   ],
   "source": [
    "# Now finally fitting and making predictions with the final model.\n",
    "best_rfc.fit(X_train, y_train)\n",
    "y_pred = best_rfc.predict(X_test)\n",
    "            \n",
    "# Calculate evaluation metrics\n",
    "accuracy = accuracy_score(y_test, y_pred)\n",
    "precision = precision_score(y_test, y_pred)\n",
    "recall = recall_score(y_test, y_pred)\n",
    "f1 = f1_score(y_test, y_pred)\n",
    "conf_matrix = confusion_matrix(y_test, y_pred)\n",
    "            \n",
    "# Display results\n",
    "print(f\"Model: Random Forest Classifier\")\n",
    "print(f\"Accuracy: {accuracy:.2f}\")\n",
    "print(f\"Precision: {precision:.2f}\")\n",
    "print(f\"Recall: {recall:.2f}\")\n",
    "print(f\"F1 Score: {f1:.2f}\")\n",
    "print(\"Confusion Matrix:\")\n",
    "print(conf_matrix)\n",
    "print(\"Final classification report:\")\n",
    "print(classification_report(y_test, y_pred))"
   ]
  },
  {
   "cell_type": "markdown",
   "metadata": {},
   "source": [
    "The classification report consolidates multiple classification metrics for each class, including precision, recall, and F1 score, along with additional information like accuracy and support. The precision and recall values we printed separately are included in the final classification report. All the values are aligning with each other, indicating consistency in our evaluation metrics."
   ]
  },
  {
   "cell_type": "markdown",
   "metadata": {},
   "source": [
    "## Exporting the optimised model"
   ]
  },
  {
   "cell_type": "code",
   "execution_count": 66,
   "metadata": {},
   "outputs": [],
   "source": [
    "model_filename = 'best-rfc-model.pkl'\n",
    "with open(model_filename, 'wb') as file:\n",
    "    pickle.dump(model, file)"
   ]
  },
  {
   "cell_type": "markdown",
   "metadata": {},
   "source": [
    "## Conclusion:\n",
    "\n",
    "In this analysis, we embarked on a journey to build a robust classification model for a crucial task. The following key steps were undertaken to achieve our goal:\n",
    "\n",
    "1. **Feature Engineering**: We meticulously prepared our data by performing essential feature engineering steps. This included handling missing values, encoding categorical variables, and scaling features to ensure our models could effectively learn from the data.\n",
    "\n",
    "2. **Cross-Validation**: To ensure the robustness and generalization of our models, we employed cross-validation techniques. This allowed us to obtain accurate performance scores while mitigating the risk of overfitting.\n",
    "\n",
    "3. **Model Selection**: We explored a variety of classification models, including Support Vector Classifier (SVC), Logistic Regression, Decision Tree, Random Forest, K-Nearest Neighbors, and Naive Bayes. This comprehensive evaluation helped us identify the most promising model candidates.\n",
    "\n",
    "4. **Performance Metrics**: For each model, we rigorously assessed their performance using crucial classification metrics, such as Precision, Recall, F1 Score, and Confusion Matrix. These metrics provided valuable insights into each model's strengths and weaknesses.\n",
    "\n",
    "5. **Random Forest Classifier**: Among the models tested, the Random Forest Classifier emerged as the top performer. Its ability to handle complex relationships within the data and produce high-quality predictions made it our model of choice.\n",
    "\n",
    "6. **Hyperparameter Tuning**: To further optimize the Random Forest Classifier, we conducted hyperparameter tuning. This process fine-tuned the model's parameters, enhancing its performance.\n",
    "\n",
    "7. **Results Visualization**: We visualized the comparative performance of different models using bar charts, making it easy for stakeholders to grasp the differences in accuracy, precision, recall, and F1 Score.\n",
    "\n",
    "8. **Model Export**: Finally, we exported the optimized Random Forest Classifier, ready for deployment in real-world scenarios."
   ]
  },
  {
   "cell_type": "markdown",
   "metadata": {},
   "source": [
    "## Made by: Hrishikesh Reddy Papasani\n",
    "## Github Profile: https://github.com/Hrishikesh-Papasani"
   ]
  }
 ],
 "metadata": {
  "interpreter": {
   "hash": "9ba6a9c8fcd81095ed344f21c2bed8b0cc33ff8f5d508cd6f3adda0714754c4b"
  },
  "kernelspec": {
   "display_name": "Python 3.11.5 ('newbest')",
   "language": "python",
   "name": "python3"
  },
  "language_info": {
   "codemirror_mode": {
    "name": "ipython",
    "version": 3
   },
   "file_extension": ".py",
   "mimetype": "text/x-python",
   "name": "python",
   "nbconvert_exporter": "python",
   "pygments_lexer": "ipython3",
   "version": "3.11.5"
  },
  "orig_nbformat": 4
 },
 "nbformat": 4,
 "nbformat_minor": 2
}
